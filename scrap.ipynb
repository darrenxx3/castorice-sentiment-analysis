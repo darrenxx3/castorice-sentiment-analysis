{
 "cells": [
  {
   "cell_type": "code",
   "execution_count": 12,
   "metadata": {},
   "outputs": [],
   "source": [
    "import requests\n",
    "from bs4 import BeautifulSoup\n",
    "import numpy as np"
   ]
  },
  {
   "cell_type": "code",
   "execution_count": 13,
   "metadata": {},
   "outputs": [],
   "source": [
    "url = 'https://www.hoyolab.com/article/37996979'\n",
    "page = requests.get(url)"
   ]
  },
  {
   "cell_type": "code",
   "execution_count": 14,
   "metadata": {},
   "outputs": [],
   "source": [
    "soup = BeautifulSoup(page.text, 'html')"
   ]
  },
  {
   "cell_type": "code",
   "execution_count": 15,
   "metadata": {},
   "outputs": [
    {
     "name": "stdout",
     "output_type": "stream",
     "text": [
      "<!DOCTYPE html>\n",
      "<html>\n",
      " <head>\n",
      "  <meta charset=\"utf-8\" data-n-head=\"1\"/>\n",
      "  <meta content=\"IE=edge\" data-n-head=\"1\" http-equiv=\"X-UA-Compatible\"/>\n",
      "  <meta content=\"webkit\" data-n-head=\"1\" name=\"renderer\"/>\n",
      "  <meta content=\"HoYoLAB is the community forum for Genshin Impact and Honkai Impact 3rd, with official information about game events, perks, fan art, and other exciting content.\" data-hid=\"description\" data-n-head=\"1\" name=\"description\"/>\n",
      "  <meta content=\"Genshin, Impact, Honkai3rd, Tears,of, Themis, Check-In, Map, anime, game, communitie, news, Reddit, Discord, 9GAG\" data-hid=\"Keywords\" data-n-head=\"1\" name=\"Keywords\"/>\n",
      "  <title>\n",
      "   HoYoLAB - Official Community\n",
      "  </title>\n",
      "  <link data-n-head=\"1\" href=\"https://www.hoyolab.com/favicon.ico\" rel=\"icon\" type=\"image/x-icon\"/>\n",
      "  <link data-n-head=\"1\" href=\"https://webstatic.hoyoverse.com\" rel=\"preconnect\"/>\n",
      "  <link data-n-head=\"1\" href=\"https://upload-os-bbs.hoyolab.com\" rel=\"preconnect\"/>\n",
      "  <link data-n-head=\"1\" href=\"https://bbs-api-os.hoyolab.com\" rel=\"preconnect\"/>\n",
      "  <link data-n-head=\"1\" href=\"https://bbs-api-os-static.hoyolab.com\" rel=\"preconnect\"/>\n",
      "  <link data-n-head=\"1\" href=\"https://abtest-api-data-sg.hoyoverse.com\" rel=\"preconnect\"/>\n",
      "  <link data-n-head=\"1\" href=\"https://webstatic.hoyoverse.com\" rel=\"dns-prefetch\"/>\n",
      "  <link data-n-head=\"1\" href=\"https://upload-os-bbs.hoyolab.com\" rel=\"dns-prefetch\"/>\n",
      "  <base href=\"/\"/>\n",
      "  <link as=\"script\" href=\"/_static/7f491a1.js\" rel=\"preload\"/>\n",
      "  <link as=\"script\" href=\"/_static/8322429.js\" rel=\"preload\"/>\n",
      "  <link as=\"script\" href=\"/_static/493caa1.js\" rel=\"preload\"/>\n",
      "  <link as=\"script\" href=\"/_static/e9144ec.js\" rel=\"preload\"/>\n",
      "  <link as=\"script\" href=\"/_static/3c6df60.js\" rel=\"preload\"/>\n",
      "  <link as=\"script\" href=\"/_static/8e8b65c.js\" rel=\"preload\"/>\n",
      "  <link as=\"script\" href=\"/_static/7a76113.js\" rel=\"preload\"/>\n",
      "  <link as=\"script\" href=\"/_static/c7c4a58.js\" rel=\"preload\"/>\n",
      "  <link as=\"script\" href=\"/_static/9b464ef.js\" rel=\"preload\"/>\n",
      "  <meta content=\"xRVJqRgK3QAr3hMjpriDbmtaEDM1uXV4YNFST93a_ZI\" name=\"google-site-verification\"/>\n",
      "  <script>\n",
      "   var _czc=_czc||[];_czc.push([\"_setAutoPageview\",!1]),(()=>{var o,c,i=window.location.hash.replace(\"#\",\"\"),n=!1;[\"^reply$\"].forEach(function(o){new RegExp(o).test(i)&&(n=!0)}),i&&!n&&(c=window.location.search,o=window.location.origin+window.location.pathname,c=(0<=c.indexOf(\"?\")?\"&\":\"?\")+\"hashRedirect=\"+i,window.location.href=o+c)})()\n",
      "  </script>\n",
      " </head>\n",
      " <body>\n",
      "  <div id=\"__nuxt\">\n",
      "   <style>\n",
      "    #nuxt-loading{background:#fff;visibility:hidden;opacity:0;position:absolute;left:0;right:0;top:0;bottom:0;display:flex;justify-content:center;align-items:center;flex-direction:column;animation:nuxtLoadingIn 10s ease;-webkit-animation:nuxtLoadingIn 10s ease;animation-fill-mode:forwards;overflow:hidden}@keyframes nuxtLoadingIn{0%{visibility:hidden;opacity:0}20%{visibility:visible;opacity:0}100%{visibility:visible;opacity:1}}@-webkit-keyframes nuxtLoadingIn{0%{visibility:hidden;opacity:0}20%{visibility:visible;opacity:0}100%{visibility:visible;opacity:1}}#nuxt-loading>div,#nuxt-loading>div:after{border-radius:50%;width:5rem;height:5rem}#nuxt-loading>div{font-size:10px;position:relative;text-indent:-9999em;border:.5rem solid #f5f5f5;border-left:.5rem solid #fff;-webkit-transform:translateZ(0);-ms-transform:translateZ(0);transform:translateZ(0);-webkit-animation:nuxtLoading 1.1s infinite linear;animation:nuxtLoading 1.1s infinite linear}#nuxt-loading.error>div{border-left:.5rem solid #ff4500;animation-duration:5s}@-webkit-keyframes nuxtLoading{0%{-webkit-transform:rotate(0);transform:rotate(0)}100%{-webkit-transform:rotate(360deg);transform:rotate(360deg)}}@keyframes nuxtLoading{0%{-webkit-transform:rotate(0);transform:rotate(0)}100%{-webkit-transform:rotate(360deg);transform:rotate(360deg)}}\n",
      "   </style>\n",
      "   <script>\n",
      "    window.addEventListener(\"error\",function(){var e=document.getElementById(\"nuxt-loading\");e&&(e.className+=\" error\")})\n",
      "   </script>\n",
      "   <div aria-live=\"polite\" id=\"nuxt-loading\" role=\"status\">\n",
      "    <div>\n",
      "     Loading...\n",
      "    </div>\n",
      "   </div>\n",
      "  </div>\n",
      "  <script>\n",
      "   window.__NUXT__={config:{_app:{basePath:\"/\",assetsPath:\"/_static/\",cdnURL:null}}}\n",
      "  </script>\n",
      "  <script src=\"/_static/7f491a1.js\">\n",
      "  </script>\n",
      "  <script src=\"/_static/8322429.js\">\n",
      "  </script>\n",
      "  <script src=\"/_static/493caa1.js\">\n",
      "  </script>\n",
      "  <script src=\"/_static/e9144ec.js\">\n",
      "  </script>\n",
      "  <script src=\"/_static/3c6df60.js\">\n",
      "  </script>\n",
      "  <script src=\"/_static/8e8b65c.js\">\n",
      "  </script>\n",
      "  <script src=\"/_static/7a76113.js\">\n",
      "  </script>\n",
      "  <script src=\"/_static/c7c4a58.js\">\n",
      "  </script>\n",
      "  <script src=\"/_static/9b464ef.js\">\n",
      "  </script>\n",
      " </body>\n",
      "</html>\n",
      "\n"
     ]
    }
   ],
   "source": [
    "print(soup.prettify())"
   ]
  },
  {
   "cell_type": "code",
   "execution_count": 16,
   "metadata": {},
   "outputs": [
    {
     "data": {
      "text/plain": [
       "<div id=\"__nuxt\"><style>#nuxt-loading{background:#fff;visibility:hidden;opacity:0;position:absolute;left:0;right:0;top:0;bottom:0;display:flex;justify-content:center;align-items:center;flex-direction:column;animation:nuxtLoadingIn 10s ease;-webkit-animation:nuxtLoadingIn 10s ease;animation-fill-mode:forwards;overflow:hidden}@keyframes nuxtLoadingIn{0%{visibility:hidden;opacity:0}20%{visibility:visible;opacity:0}100%{visibility:visible;opacity:1}}@-webkit-keyframes nuxtLoadingIn{0%{visibility:hidden;opacity:0}20%{visibility:visible;opacity:0}100%{visibility:visible;opacity:1}}#nuxt-loading>div,#nuxt-loading>div:after{border-radius:50%;width:5rem;height:5rem}#nuxt-loading>div{font-size:10px;position:relative;text-indent:-9999em;border:.5rem solid #f5f5f5;border-left:.5rem solid #fff;-webkit-transform:translateZ(0);-ms-transform:translateZ(0);transform:translateZ(0);-webkit-animation:nuxtLoading 1.1s infinite linear;animation:nuxtLoading 1.1s infinite linear}#nuxt-loading.error>div{border-left:.5rem solid #ff4500;animation-duration:5s}@-webkit-keyframes nuxtLoading{0%{-webkit-transform:rotate(0);transform:rotate(0)}100%{-webkit-transform:rotate(360deg);transform:rotate(360deg)}}@keyframes nuxtLoading{0%{-webkit-transform:rotate(0);transform:rotate(0)}100%{-webkit-transform:rotate(360deg);transform:rotate(360deg)}}</style> <script>window.addEventListener(\"error\",function(){var e=document.getElementById(\"nuxt-loading\");e&&(e.className+=\" error\")})</script> <div aria-live=\"polite\" id=\"nuxt-loading\" role=\"status\"><div>Loading...</div></div> </div>"
      ]
     },
     "execution_count": 16,
     "metadata": {},
     "output_type": "execute_result"
    }
   ],
   "source": [
    "soup.find('div')"
   ]
  },
  {
   "cell_type": "code",
   "execution_count": 17,
   "metadata": {},
   "outputs": [
    {
     "data": {
      "text/plain": [
       "[<div id=\"__nuxt\"><style>#nuxt-loading{background:#fff;visibility:hidden;opacity:0;position:absolute;left:0;right:0;top:0;bottom:0;display:flex;justify-content:center;align-items:center;flex-direction:column;animation:nuxtLoadingIn 10s ease;-webkit-animation:nuxtLoadingIn 10s ease;animation-fill-mode:forwards;overflow:hidden}@keyframes nuxtLoadingIn{0%{visibility:hidden;opacity:0}20%{visibility:visible;opacity:0}100%{visibility:visible;opacity:1}}@-webkit-keyframes nuxtLoadingIn{0%{visibility:hidden;opacity:0}20%{visibility:visible;opacity:0}100%{visibility:visible;opacity:1}}#nuxt-loading>div,#nuxt-loading>div:after{border-radius:50%;width:5rem;height:5rem}#nuxt-loading>div{font-size:10px;position:relative;text-indent:-9999em;border:.5rem solid #f5f5f5;border-left:.5rem solid #fff;-webkit-transform:translateZ(0);-ms-transform:translateZ(0);transform:translateZ(0);-webkit-animation:nuxtLoading 1.1s infinite linear;animation:nuxtLoading 1.1s infinite linear}#nuxt-loading.error>div{border-left:.5rem solid #ff4500;animation-duration:5s}@-webkit-keyframes nuxtLoading{0%{-webkit-transform:rotate(0);transform:rotate(0)}100%{-webkit-transform:rotate(360deg);transform:rotate(360deg)}}@keyframes nuxtLoading{0%{-webkit-transform:rotate(0);transform:rotate(0)}100%{-webkit-transform:rotate(360deg);transform:rotate(360deg)}}</style> <script>window.addEventListener(\"error\",function(){var e=document.getElementById(\"nuxt-loading\");e&&(e.className+=\" error\")})</script> <div aria-live=\"polite\" id=\"nuxt-loading\" role=\"status\"><div>Loading...</div></div> </div>,\n",
       " <div aria-live=\"polite\" id=\"nuxt-loading\" role=\"status\"><div>Loading...</div></div>,\n",
       " <div>Loading...</div>]"
      ]
     },
     "execution_count": 17,
     "metadata": {},
     "output_type": "execute_result"
    }
   ],
   "source": [
    "soup.find_all('div')"
   ]
  },
  {
   "cell_type": "code",
   "execution_count": 18,
   "metadata": {},
   "outputs": [
    {
     "data": {
      "text/plain": [
       "[]"
      ]
     },
     "execution_count": 18,
     "metadata": {},
     "output_type": "execute_result"
    }
   ],
   "source": [
    "soup.find_all('p')"
   ]
  }
 ],
 "metadata": {
  "kernelspec": {
   "display_name": "selenium_scraper",
   "language": "python",
   "name": "python3"
  },
  "language_info": {
   "codemirror_mode": {
    "name": "ipython",
    "version": 3
   },
   "file_extension": ".py",
   "mimetype": "text/x-python",
   "name": "python",
   "nbconvert_exporter": "python",
   "pygments_lexer": "ipython3",
   "version": "3.10.0"
  }
 },
 "nbformat": 4,
 "nbformat_minor": 2
}
