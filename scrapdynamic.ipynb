{
 "cells": [
  {
   "cell_type": "code",
   "execution_count": 1,
   "metadata": {},
   "outputs": [],
   "source": [
    "import requests\n",
    "from bs4 import BeautifulSoup\n",
    "import numpy as np\n",
    "from youtube_comment_downloader import YoutubeCommentDownloader\n",
    "import pandas as pd"
   ]
  },
  {
   "cell_type": "code",
   "execution_count": 2,
   "metadata": {},
   "outputs": [
    {
     "data": {
      "text/html": [
       "<div>\n",
       "<style scoped>\n",
       "    .dataframe tbody tr th:only-of-type {\n",
       "        vertical-align: middle;\n",
       "    }\n",
       "\n",
       "    .dataframe tbody tr th {\n",
       "        vertical-align: top;\n",
       "    }\n",
       "\n",
       "    .dataframe thead th {\n",
       "        text-align: right;\n",
       "    }\n",
       "</style>\n",
       "<table border=\"1\" class=\"dataframe\">\n",
       "  <thead>\n",
       "    <tr style=\"text-align: right;\">\n",
       "      <th></th>\n",
       "      <th>comment</th>\n",
       "    </tr>\n",
       "  </thead>\n",
       "  <tbody>\n",
       "    <tr>\n",
       "      <th>0</th>\n",
       "      <td>they clearly felt the cold water, during beta ...</td>\n",
       "    </tr>\n",
       "    <tr>\n",
       "      <th>1</th>\n",
       "      <td>After playing the story, I still think the glo...</td>\n",
       "    </tr>\n",
       "    <tr>\n",
       "      <th>2</th>\n",
       "      <td>It is broken, as the reason most showcases ach...</td>\n",
       "    </tr>\n",
       "    <tr>\n",
       "      <th>3</th>\n",
       "      <td>Being self-aware that you sound like a hoyo sh...</td>\n",
       "    </tr>\n",
       "    <tr>\n",
       "      <th>4</th>\n",
       "      <td>I don't really mind the passives even if they ...</td>\n",
       "    </tr>\n",
       "    <tr>\n",
       "      <th>...</th>\n",
       "      <td>...</td>\n",
       "    </tr>\n",
       "    <tr>\n",
       "      <th>474</th>\n",
       "      <td>@Ghosty2098 there was absolutely no leak that...</td>\n",
       "    </tr>\n",
       "    <tr>\n",
       "      <th>475</th>\n",
       "      <td>@Ghosty2098  Source: Trust me bro</td>\n",
       "    </tr>\n",
       "    <tr>\n",
       "      <th>476</th>\n",
       "      <td>@princekili1027  I know they be pissing me off</td>\n",
       "    </tr>\n",
       "    <tr>\n",
       "      <th>477</th>\n",
       "      <td>​ @Ghosty2098  where are your sources 💀\\n\\nI'v...</td>\n",
       "    </tr>\n",
       "    <tr>\n",
       "      <th>478</th>\n",
       "      <td>​ @Ghosty2098 who leaked it? Is it a reliable ...</td>\n",
       "    </tr>\n",
       "  </tbody>\n",
       "</table>\n",
       "<p>479 rows × 1 columns</p>\n",
       "</div>"
      ],
      "text/plain": [
       "                                               comment\n",
       "0    they clearly felt the cold water, during beta ...\n",
       "1    After playing the story, I still think the glo...\n",
       "2    It is broken, as the reason most showcases ach...\n",
       "3    Being self-aware that you sound like a hoyo sh...\n",
       "4    I don't really mind the passives even if they ...\n",
       "..                                                 ...\n",
       "474   @Ghosty2098 there was absolutely no leak that...\n",
       "475                  @Ghosty2098  Source: Trust me bro\n",
       "476     @princekili1027  I know they be pissing me off\n",
       "477  ​ @Ghosty2098  where are your sources 💀\\n\\nI'v...\n",
       "478  ​ @Ghosty2098 who leaked it? Is it a reliable ...\n",
       "\n",
       "[479 rows x 1 columns]"
      ]
     },
     "execution_count": 2,
     "metadata": {},
     "output_type": "execute_result"
    }
   ],
   "source": [
    "def scrape_youtube_comments(video_id, max_comments=500):\n",
    "    downloader = YoutubeCommentDownloader()\n",
    "    generator= downloader.get_comments_from_url(f\"https://www.youtube.com/watch?v={video_id}\")\n",
    "\n",
    "    comments = []\n",
    "    for count, comment in enumerate(generator):\n",
    "        comments.append(comment['text'])\n",
    "        if count >= max_comments - 1:\n",
    "            break\n",
    "    return comments\n",
    "\n",
    "youtube_comments = scrape_youtube_comments(\"9ndC5FSLJBg\", max_comments=500)\n",
    "df_youtube = pd.DataFrame(youtube_comments, columns=['comment'])\n",
    "df_youtube.head(500)"
   ]
  },
  {
   "cell_type": "code",
   "execution_count": 3,
   "metadata": {},
   "outputs": [
    {
     "name": "stdout",
     "output_type": "stream",
     "text": [
      "CastoriceServant of DeathSplash ArtIn-GameRarityCombat PathRemembranceCombat TypeQuantumBioFamilyVoiceTypePlayable CharacterStatusIn the nether realm permanently as ofTrailblaze MissionSea of Flowers, Adored Only by DeathOther TitlesMaiden of WarDaughter of the River of SoulsFactionsAmphoreus(on profile)Chrysos Heirs(demigod)[1]Styxia(hometown)[2]Aidonia(formerly)[3]Okhema[3]WorldAmphoreusMessagesCastorice's MessagesHow To ObtainBlossom to the BeyondRelease DateApril 09, 2025April 09, 20251 month agoRelativesPolyxia(younger twin sister) †[4][5]Queen ofStyxia(adoptive mother) †[6]Amunet(adoptive mother) †[6]EnglishMelody Muze[7]ChineseRuan Congqing (阮从青)[7]JapaneseSaito Chiwa (斎藤千和)[7]KoreanLee Serena (이세레나)[7]\n",
      "Castoriceis a playablecharacterinHonkai: Star Rail.\n",
      "The land that reveres death,Aidonia, where snow falls endlessly, has today drifted into a sweet slumber. Castorice, daughter of theRiver of Souls,Chrysos Heirin search of \"Death\"Coreflame, sets forth. You must guard the lament o\n"
     ]
    }
   ],
   "source": [
    "# Scrape Castorice's Fandom page for kit text and discussion sections (if available)\n",
    "\n",
    "def scrape_fandom_wiki(url):\n",
    "    headers = {\n",
    "        \"User-Agent\": \"Mozilla/5.0\"\n",
    "    }\n",
    "    response = requests.get(url, headers=headers)\n",
    "    soup = BeautifulSoup(response.content, \"html.parser\")\n",
    "\n",
    "    content = []\n",
    "    for p in soup.select('div.mw-parser-output > p'):\n",
    "        content.append(p.get_text(strip=True))\n",
    "\n",
    "    return \"\\n\".join(content)\n",
    "\n",
    "fandom_text = scrape_fandom_wiki(\"https://honkai-star-rail.fandom.com/wiki/Castorice\")\n",
    "print(fandom_text[:1000])"
   ]
  },
  {
   "cell_type": "code",
   "execution_count": 9,
   "metadata": {},
   "outputs": [
    {
     "name": "stdout",
     "output_type": "stream",
     "text": [
      "✅ Cookies saved.\n"
     ]
    }
   ],
   "source": [
    "from selenium import webdriver\n",
    "import time\n",
    "import json\n",
    "\n",
    "driver = webdriver.Chrome()\n",
    "driver.get(\"https://www.hoyolab.com\")\n",
    "input(\"🟡 Please log in manually, then press ENTER to save cookies...\")\n",
    "\n",
    "with open(\"hoyolab_cookies.json\", \"w\") as f:\n",
    "    json.dump(driver.get_cookies(), f)\n",
    "\n",
    "print(\"✅ Cookies saved.\")\n",
    "driver.quit()"
   ]
  },
  {
   "cell_type": "code",
   "execution_count": 11,
   "metadata": {},
   "outputs": [
    {
     "name": "stdout",
     "output_type": "stream",
     "text": [
      "✅ Scraped 0 comments. Saved to hoyolab_comments.json\n"
     ]
    }
   ],
   "source": [
    "import time\n",
    "import json\n",
    "from selenium import webdriver\n",
    "from selenium.webdriver.common.by import By\n",
    "from selenium.webdriver.chrome.options import Options\n",
    "\n",
    "# Load cookies\n",
    "with open(\"hoyolab_cookies.json\", \"r\") as f:\n",
    "    cookies = json.load(f)\n",
    "\n",
    "# Setup browser\n",
    "options = Options()\n",
    "# options.add_argument(\"--headless\")  # Optional\n",
    "options.add_argument(\"--start-maximized\")\n",
    "driver = webdriver.Chrome(options=options)\n",
    "\n",
    "# Step 1: Open base domain to set cookies\n",
    "driver.get(\"https://www.hoyolab.com\")\n",
    "time.sleep(3)\n",
    "\n",
    "# Step 2: Add cookies\n",
    "for cookie in cookies:\n",
    "    try:\n",
    "        driver.add_cookie({\n",
    "            \"name\": cookie[\"name\"],\n",
    "            \"value\": cookie[\"value\"],\n",
    "            \"domain\": cookie.get(\"domain\", \".hoyolab.com\"),\n",
    "            \"path\": cookie.get(\"path\", \"/\")\n",
    "        })\n",
    "    except Exception as e:\n",
    "        print(f\"⚠️ Skipping cookie {cookie['name']}: {e}\")\n",
    "\n",
    "# Step 3: Go to the article\n",
    "driver.get(\"https://www.hoyolab.com/article/37996979\")\n",
    "time.sleep(5)\n",
    "\n",
    "# Scroll to load comments\n",
    "last_height = driver.execute_script(\"return document.body.scrollHeight\")\n",
    "scroll_attempts = 0\n",
    "while True:\n",
    "    driver.execute_script(\"window.scrollTo(0, document.body.scrollHeight);\")\n",
    "    time.sleep(2)\n",
    "    new_height = driver.execute_script(\"return document.body.scrollHeight\")\n",
    "    if new_height == last_height:\n",
    "        scroll_attempts += 1\n",
    "        if scroll_attempts >= 2:\n",
    "            break\n",
    "    else:\n",
    "        scroll_attempts = 0\n",
    "        last_height = new_height\n",
    "\n",
    "# Extract visible comments\n",
    "comment_elements = driver.find_elements(By.CSS_SELECTOR, \".mhy-reply-list > div\")\n",
    "comments = []\n",
    "for el in comment_elements:\n",
    "    try:\n",
    "        user = el.find_element(By.CSS_SELECTOR, \".user-name\").text.strip()\n",
    "        comment = el.find_element(By.CSS_SELECTOR, \".reply-content__content\").text.strip()\n",
    "        comments.append({\"user\": user, \"comment\": comment})\n",
    "    except Exception as e:\n",
    "        continue\n",
    "\n",
    "# Save results\n",
    "with open(\"hoyolab_comments.json\", \"w\", encoding=\"utf-8\") as f:\n",
    "    json.dump(comments, f, ensure_ascii=False, indent=2)\n",
    "\n",
    "print(f\"✅ Scraped {len(comments)} comments. Saved to hoyolab_comments.json\")\n",
    "driver.quit()\n"
   ]
  }
 ],
 "metadata": {
  "kernelspec": {
   "display_name": "selenium_scraper",
   "language": "python",
   "name": "python3"
  },
  "language_info": {
   "codemirror_mode": {
    "name": "ipython",
    "version": 3
   },
   "file_extension": ".py",
   "mimetype": "text/x-python",
   "name": "python",
   "nbconvert_exporter": "python",
   "pygments_lexer": "ipython3",
   "version": "3.10.0"
  }
 },
 "nbformat": 4,
 "nbformat_minor": 2
}
