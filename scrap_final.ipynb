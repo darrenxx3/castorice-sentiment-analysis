{
 "cells": [
  {
   "cell_type": "code",
   "execution_count": 1,
   "metadata": {},
   "outputs": [],
   "source": [
    "import requests\n",
    "from bs4 import BeautifulSoup\n",
    "import numpy as np\n",
    "from youtube_comment_downloader import YoutubeCommentDownloader\n",
    "import pandas as pd"
   ]
  },
  {
   "cell_type": "markdown",
   "metadata": {},
   "source": [
    "#### Scrape Youtube Comments"
   ]
  },
  {
   "cell_type": "code",
   "execution_count": 2,
   "metadata": {},
   "outputs": [
    {
     "name": "stdout",
     "output_type": "stream",
     "text": [
      "Total comment: 482\n"
     ]
    },
    {
     "data": {
      "text/html": [
       "<div>\n",
       "<style scoped>\n",
       "    .dataframe tbody tr th:only-of-type {\n",
       "        vertical-align: middle;\n",
       "    }\n",
       "\n",
       "    .dataframe tbody tr th {\n",
       "        vertical-align: top;\n",
       "    }\n",
       "\n",
       "    .dataframe thead th {\n",
       "        text-align: right;\n",
       "    }\n",
       "</style>\n",
       "<table border=\"1\" class=\"dataframe\">\n",
       "  <thead>\n",
       "    <tr style=\"text-align: right;\">\n",
       "      <th></th>\n",
       "      <th>comment</th>\n",
       "    </tr>\n",
       "  </thead>\n",
       "  <tbody>\n",
       "    <tr>\n",
       "      <th>0</th>\n",
       "      <td>they clearly felt the cold water, during beta ...</td>\n",
       "    </tr>\n",
       "    <tr>\n",
       "      <th>1</th>\n",
       "      <td>After playing the story, I still think the glo...</td>\n",
       "    </tr>\n",
       "    <tr>\n",
       "      <th>2</th>\n",
       "      <td>It is broken, as the reason most showcases ach...</td>\n",
       "    </tr>\n",
       "    <tr>\n",
       "      <th>3</th>\n",
       "      <td>Being self-aware that you sound like a hoyo sh...</td>\n",
       "    </tr>\n",
       "    <tr>\n",
       "      <th>4</th>\n",
       "      <td>I don't really mind the passives even if they ...</td>\n",
       "    </tr>\n",
       "  </tbody>\n",
       "</table>\n",
       "</div>"
      ],
      "text/plain": [
       "                                             comment\n",
       "0  they clearly felt the cold water, during beta ...\n",
       "1  After playing the story, I still think the glo...\n",
       "2  It is broken, as the reason most showcases ach...\n",
       "3  Being self-aware that you sound like a hoyo sh...\n",
       "4  I don't really mind the passives even if they ..."
      ]
     },
     "execution_count": 2,
     "metadata": {},
     "output_type": "execute_result"
    }
   ],
   "source": [
    "def scrape_youtube_comments(video_id):\n",
    "    downloader = YoutubeCommentDownloader()\n",
    "    generator= downloader.get_comments_from_url(f\"https://www.youtube.com/watch?v={video_id}\")\n",
    "\n",
    "    comments = []\n",
    "    for comment in generator:\n",
    "        comments.append(comment['text'])\n",
    "    return comments\n",
    "\n",
    "# run the function\n",
    "youtube_comments = scrape_youtube_comments(\"9ndC5FSLJBg\")\n",
    "\n",
    "# convert to DataFrame\n",
    "df_youtube = pd.DataFrame(youtube_comments, columns=['comment'])\n",
    "print(f\"Total comment: {len(df_youtube)}\")\n",
    "df_youtube.head()"
   ]
  },
  {
   "cell_type": "markdown",
   "metadata": {},
   "source": [
    "#### Scrape Youtube Multiple Comments"
   ]
  },
  {
   "cell_type": "code",
   "execution_count": 2,
   "metadata": {},
   "outputs": [
    {
     "name": "stdout",
     "output_type": "stream",
     "text": [
      "Scraping video ID: 9ndC5FSLJBg\n",
      "482 comments scraped.✅\n",
      "Scraping video ID: Sz6rtb5vztg\n",
      "675 comments scraped.✅\n",
      "Scraping video ID: cG7HJ_b2VBI\n",
      "312 comments scraped.✅\n",
      "Scraping video ID: _3MlnlC1YLE\n",
      "479 comments scraped.✅\n",
      "Scraping video ID: 2YgZg-0dGBk\n",
      "760 comments scraped.✅\n",
      "Scraping video ID: STxzdZCQGfM\n",
      "895 comments scraped.✅\n",
      "Scraping video ID: gKmGbRRWbVQ\n",
      "2808 comments scraped.✅\n",
      "Scraping video ID: ASoKhMbUFV0\n",
      "1638 comments scraped.✅\n",
      "\n",
      "Total comments scraped: 8049\n"
     ]
    },
    {
     "data": {
      "text/html": [
       "<div>\n",
       "<style scoped>\n",
       "    .dataframe tbody tr th:only-of-type {\n",
       "        vertical-align: middle;\n",
       "    }\n",
       "\n",
       "    .dataframe tbody tr th {\n",
       "        vertical-align: top;\n",
       "    }\n",
       "\n",
       "    .dataframe thead th {\n",
       "        text-align: right;\n",
       "    }\n",
       "</style>\n",
       "<table border=\"1\" class=\"dataframe\">\n",
       "  <thead>\n",
       "    <tr style=\"text-align: right;\">\n",
       "      <th></th>\n",
       "      <th>comment</th>\n",
       "    </tr>\n",
       "  </thead>\n",
       "  <tbody>\n",
       "    <tr>\n",
       "      <th>0</th>\n",
       "      <td>they clearly felt the cold water, during beta ...</td>\n",
       "    </tr>\n",
       "    <tr>\n",
       "      <th>1</th>\n",
       "      <td>After playing the story, I still think the glo...</td>\n",
       "    </tr>\n",
       "    <tr>\n",
       "      <th>2</th>\n",
       "      <td>It is broken, as the reason most showcases ach...</td>\n",
       "    </tr>\n",
       "    <tr>\n",
       "      <th>3</th>\n",
       "      <td>Being self-aware that you sound like a hoyo sh...</td>\n",
       "    </tr>\n",
       "    <tr>\n",
       "      <th>4</th>\n",
       "      <td>I don't really mind the passives even if they ...</td>\n",
       "    </tr>\n",
       "    <tr>\n",
       "      <th>5</th>\n",
       "      <td>I'm not having Castorice and paying more atten...</td>\n",
       "    </tr>\n",
       "    <tr>\n",
       "      <th>6</th>\n",
       "      <td>Hoyocuck CC</td>\n",
       "    </tr>\n",
       "    <tr>\n",
       "      <th>7</th>\n",
       "      <td>The furthest it should go is affecting the opp...</td>\n",
       "    </tr>\n",
       "    <tr>\n",
       "      <th>8</th>\n",
       "      <td>i don't think they will do it again, most than...</td>\n",
       "    </tr>\n",
       "    <tr>\n",
       "      <th>9</th>\n",
       "      <td>Hoyo is a business and the game is easy enough...</td>\n",
       "    </tr>\n",
       "  </tbody>\n",
       "</table>\n",
       "</div>"
      ],
      "text/plain": [
       "                                             comment\n",
       "0  they clearly felt the cold water, during beta ...\n",
       "1  After playing the story, I still think the glo...\n",
       "2  It is broken, as the reason most showcases ach...\n",
       "3  Being self-aware that you sound like a hoyo sh...\n",
       "4  I don't really mind the passives even if they ...\n",
       "5  I'm not having Castorice and paying more atten...\n",
       "6                                        Hoyocuck CC\n",
       "7  The furthest it should go is affecting the opp...\n",
       "8  i don't think they will do it again, most than...\n",
       "9  Hoyo is a business and the game is easy enough..."
      ]
     },
     "execution_count": 2,
     "metadata": {},
     "output_type": "execute_result"
    }
   ],
   "source": [
    "from youtube_comment_downloader import YoutubeCommentDownloader\n",
    "import pandas as pd\n",
    "import time\n",
    "\n",
    "def scrape_all_youtube_comments(video_id):\n",
    "    downloader = YoutubeCommentDownloader()\n",
    "    generator = downloader.get_comments_from_url(f\"https://www.youtube.com/watch?v={video_id}\")\n",
    "    \n",
    "    comments = []\n",
    "    for comment in generator:\n",
    "        comments.append(comment['text'])\n",
    "    \n",
    "    return comments\n",
    "\n",
    "# Video link id source save as an array\n",
    "video_links = [\n",
    "    \"9ndC5FSLJBg\",\n",
    "    \"Sz6rtb5vztg\",\n",
    "    \"cG7HJ_b2VBI\",\n",
    "    \"_3MlnlC1YLE\",\n",
    "    \"2YgZg-0dGBk\",\n",
    "    \"STxzdZCQGfM\",\n",
    "    \"gKmGbRRWbVQ\",\n",
    "    \"ASoKhMbUFV0\"\n",
    "]\n",
    "\n",
    "all_comments = []\n",
    "\n",
    "# iterating to scrap data from each video_id\n",
    "for video_id in video_links:\n",
    "    print(f\"Scraping video ID: {video_id}\")\n",
    "    try:\n",
    "        comments = scrape_all_youtube_comments(video_id)\n",
    "        print(f\"{len(comments)} comments scraped.✅\")\n",
    "        for comment in comments:\n",
    "            all_comments.append({\n",
    "                \"comment\": comment\n",
    "            })\n",
    "        time.sleep(5)  # optional delay to reduce risk of being blocked\n",
    "    except Exception as e:\n",
    "        print(f\"Failed to scrape {video_id}: {e}❌\")\n",
    "\n",
    "# Convert to DataFrame\n",
    "df_multi_youtube = pd.DataFrame(all_comments)\n",
    "print(f\"\\nTotal comments scraped: {len(df_multi_youtube)}\")\n",
    "df_multi_youtube.head(10)\n"
   ]
  },
  {
   "cell_type": "code",
   "execution_count": 3,
   "metadata": {},
   "outputs": [
    {
     "data": {
      "text/html": [
       "<div>\n",
       "<style scoped>\n",
       "    .dataframe tbody tr th:only-of-type {\n",
       "        vertical-align: middle;\n",
       "    }\n",
       "\n",
       "    .dataframe tbody tr th {\n",
       "        vertical-align: top;\n",
       "    }\n",
       "\n",
       "    .dataframe thead th {\n",
       "        text-align: right;\n",
       "    }\n",
       "</style>\n",
       "<table border=\"1\" class=\"dataframe\">\n",
       "  <thead>\n",
       "    <tr style=\"text-align: right;\">\n",
       "      <th></th>\n",
       "      <th>comment</th>\n",
       "    </tr>\n",
       "  </thead>\n",
       "  <tbody>\n",
       "    <tr>\n",
       "      <th>8044</th>\n",
       "      <td>5:56 I really feel her sadness..\\n\\nE2 S2 Cast...</td>\n",
       "    </tr>\n",
       "    <tr>\n",
       "      <th>8045</th>\n",
       "      <td>This felt more than seven minutes, these anima...</td>\n",
       "    </tr>\n",
       "    <tr>\n",
       "      <th>8046</th>\n",
       "      <td>🥹🥹🥹💘 CASY</td>\n",
       "    </tr>\n",
       "    <tr>\n",
       "      <th>8047</th>\n",
       "      <td>This is certainly english</td>\n",
       "    </tr>\n",
       "    <tr>\n",
       "      <th>8048</th>\n",
       "      <td>Depression is our friend, that's quite depressing</td>\n",
       "    </tr>\n",
       "  </tbody>\n",
       "</table>\n",
       "</div>"
      ],
      "text/plain": [
       "                                                comment\n",
       "8044  5:56 I really feel her sadness..\\n\\nE2 S2 Cast...\n",
       "8045  This felt more than seven minutes, these anima...\n",
       "8046                                          🥹🥹🥹💘 CASY\n",
       "8047                          This is certainly english\n",
       "8048  Depression is our friend, that's quite depressing"
      ]
     },
     "execution_count": 3,
     "metadata": {},
     "output_type": "execute_result"
    }
   ],
   "source": [
    "df_multi_youtube.tail()"
   ]
  },
  {
   "cell_type": "code",
   "execution_count": 4,
   "metadata": {},
   "outputs": [
    {
     "name": "stdout",
     "output_type": "stream",
     "text": [
      "Saved to CSV✅, check your folder\n"
     ]
    }
   ],
   "source": [
    "#save to CSV\n",
    "\n",
    "df = pd.DataFrame(df_multi_youtube)\n",
    "df.to_csv(\"cassie_comments.csv\", index=False)\n",
    "print(\"Saved to CSV✅, check your folder\")"
   ]
  },
  {
   "cell_type": "markdown",
   "metadata": {},
   "source": [
    "#### "
   ]
  }
 ],
 "metadata": {
  "kernelspec": {
   "display_name": "selenium_scraper",
   "language": "python",
   "name": "python3"
  },
  "language_info": {
   "codemirror_mode": {
    "name": "ipython",
    "version": 3
   },
   "file_extension": ".py",
   "mimetype": "text/x-python",
   "name": "python",
   "nbconvert_exporter": "python",
   "pygments_lexer": "ipython3",
   "version": "3.10.0"
  }
 },
 "nbformat": 4,
 "nbformat_minor": 2
}
