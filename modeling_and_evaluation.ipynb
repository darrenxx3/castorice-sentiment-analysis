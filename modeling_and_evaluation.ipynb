{
 "cells": [
  {
   "cell_type": "markdown",
   "metadata": {},
   "source": [
    "#### Configure Nvidia GPU computing as default"
   ]
  },
  {
   "cell_type": "code",
   "execution_count": 1,
   "metadata": {},
   "outputs": [
    {
     "name": "stdout",
     "output_type": "stream",
     "text": [
      "Number of GPU:  1\n",
      "GPU Name:  NVIDIA GeForce GTX 1650\n",
      "GPU: NVIDIA GeForce GTX 1650 is available.\n"
     ]
    }
   ],
   "source": [
    "import torch\n",
    "\n",
    "print(\"Number of GPU: \", torch.cuda.device_count())\n",
    "print(\"GPU Name: \", torch.cuda.get_device_name())\n",
    "\n",
    "if torch.cuda.is_available():\n",
    "    print(f\"GPU: {torch.cuda.get_device_name(0)} is available.\")\n",
    "else:\n",
    "    print(\"No GPU available. Training will run on CPU.\")"
   ]
  },
  {
   "cell_type": "code",
   "execution_count": 2,
   "metadata": {},
   "outputs": [
    {
     "name": "stdout",
     "output_type": "stream",
     "text": [
      "Selected Device: cuda\n"
     ]
    }
   ],
   "source": [
    "#Configure device: Set the device configuration to GPU using the torch.device class in PyTorch:\n",
    "\n",
    "device = torch.device(\"cuda\" if torch.cuda.is_available() else \"cpu\")\n",
    "print(\"Selected Device:\", device)"
   ]
  },
  {
   "cell_type": "markdown",
   "metadata": {},
   "source": [
    "#### Import Library 📚"
   ]
  },
  {
   "cell_type": "code",
   "execution_count": 3,
   "metadata": {},
   "outputs": [],
   "source": [
    "import pandas as pd\n",
    "import numpy as np"
   ]
  },
  {
   "cell_type": "markdown",
   "metadata": {},
   "source": [
    "#### Load data"
   ]
  },
  {
   "cell_type": "code",
   "execution_count": 4,
   "metadata": {},
   "outputs": [
    {
     "data": {
      "text/html": [
       "<div>\n",
       "<style scoped>\n",
       "    .dataframe tbody tr th:only-of-type {\n",
       "        vertical-align: middle;\n",
       "    }\n",
       "\n",
       "    .dataframe tbody tr th {\n",
       "        vertical-align: top;\n",
       "    }\n",
       "\n",
       "    .dataframe thead th {\n",
       "        text-align: right;\n",
       "    }\n",
       "</style>\n",
       "<table border=\"1\" class=\"dataframe\">\n",
       "  <thead>\n",
       "    <tr style=\"text-align: right;\">\n",
       "      <th></th>\n",
       "      <th>comment</th>\n",
       "    </tr>\n",
       "  </thead>\n",
       "  <tbody>\n",
       "    <tr>\n",
       "      <th>0</th>\n",
       "      <td>they clearly felt the cold water during beta a...</td>\n",
       "    </tr>\n",
       "    <tr>\n",
       "      <th>1</th>\n",
       "      <td>after playing the story i still think the glob...</td>\n",
       "    </tr>\n",
       "    <tr>\n",
       "      <th>2</th>\n",
       "      <td>it is broken as the reason most showcases achi...</td>\n",
       "    </tr>\n",
       "    <tr>\n",
       "      <th>3</th>\n",
       "      <td>being selfaware that you sound like a hoyo shi...</td>\n",
       "    </tr>\n",
       "    <tr>\n",
       "      <th>4</th>\n",
       "      <td>i dont really mind the passives even if they a...</td>\n",
       "    </tr>\n",
       "    <tr>\n",
       "      <th>5</th>\n",
       "      <td>im not having castorice and paying more attent...</td>\n",
       "    </tr>\n",
       "    <tr>\n",
       "      <th>6</th>\n",
       "      <td>hoyocuck cc</td>\n",
       "    </tr>\n",
       "    <tr>\n",
       "      <th>7</th>\n",
       "      <td>the furthest it should go is affecting the opp...</td>\n",
       "    </tr>\n",
       "    <tr>\n",
       "      <th>8</th>\n",
       "      <td>i dont think they will do it again most than a...</td>\n",
       "    </tr>\n",
       "    <tr>\n",
       "      <th>9</th>\n",
       "      <td>hoyo is a business and the game is easy enough...</td>\n",
       "    </tr>\n",
       "  </tbody>\n",
       "</table>\n",
       "</div>"
      ],
      "text/plain": [
       "                                             comment\n",
       "0  they clearly felt the cold water during beta a...\n",
       "1  after playing the story i still think the glob...\n",
       "2  it is broken as the reason most showcases achi...\n",
       "3  being selfaware that you sound like a hoyo shi...\n",
       "4  i dont really mind the passives even if they a...\n",
       "5  im not having castorice and paying more attent...\n",
       "6                                        hoyocuck cc\n",
       "7  the furthest it should go is affecting the opp...\n",
       "8  i dont think they will do it again most than a...\n",
       "9  hoyo is a business and the game is easy enough..."
      ]
     },
     "execution_count": 4,
     "metadata": {},
     "output_type": "execute_result"
    }
   ],
   "source": [
    "df = pd.read_csv(\"./data/cassie_comments_cleaned.csv\")\n",
    "df.head(10)"
   ]
  },
  {
   "cell_type": "code",
   "execution_count": 5,
   "metadata": {},
   "outputs": [
    {
     "name": "stdout",
     "output_type": "stream",
     "text": [
      "<class 'pandas.core.frame.DataFrame'>\n",
      "RangeIndex: 7963 entries, 0 to 7962\n",
      "Data columns (total 1 columns):\n",
      " #   Column   Non-Null Count  Dtype \n",
      "---  ------   --------------  ----- \n",
      " 0   comment  7858 non-null   object\n",
      "dtypes: object(1)\n",
      "memory usage: 62.3+ KB\n"
     ]
    }
   ],
   "source": [
    "df.info()"
   ]
  },
  {
   "cell_type": "markdown",
   "metadata": {},
   "source": [
    "#### Distilbert fine tune pretrained"
   ]
  },
  {
   "cell_type": "code",
   "execution_count": 6,
   "metadata": {},
   "outputs": [],
   "source": [
    "import torch\n",
    "from transformers import DistilBertTokenizer, DistilBertForSequenceClassification, pipeline\n",
    "\n",
    "tokenizer = DistilBertTokenizer.from_pretrained(\"distilbert/distilbert-base-uncased-finetuned-sst-2-english\")\n"
   ]
  },
  {
   "cell_type": "markdown",
   "metadata": {},
   "source": [
    "#### load inference pipeline"
   ]
  },
  {
   "cell_type": "code",
   "execution_count": 7,
   "metadata": {},
   "outputs": [
    {
     "name": "stderr",
     "output_type": "stream",
     "text": [
      "Device set to use cuda:0\n"
     ]
    }
   ],
   "source": [
    "sentiment = pipeline(\"sentiment-analysis\", model=\"distilbert/distilbert-base-uncased-finetuned-sst-2-english\")"
   ]
  },
  {
   "cell_type": "markdown",
   "metadata": {},
   "source": [
    "#### Labeling using Pseudo techniques"
   ]
  },
  {
   "cell_type": "code",
   "execution_count": 8,
   "metadata": {},
   "outputs": [
    {
     "name": "stdout",
     "output_type": "stream",
     "text": [
      "DataFrame columns: Index(['comment'], dtype='object')\n"
     ]
    },
    {
     "name": "stderr",
     "output_type": "stream",
     "text": [
      "You seem to be using the pipelines sequentially on GPU. In order to maximize efficiency please use a dataset\n"
     ]
    },
    {
     "data": {
      "text/html": [
       "<div>\n",
       "<style scoped>\n",
       "    .dataframe tbody tr th:only-of-type {\n",
       "        vertical-align: middle;\n",
       "    }\n",
       "\n",
       "    .dataframe tbody tr th {\n",
       "        vertical-align: top;\n",
       "    }\n",
       "\n",
       "    .dataframe thead th {\n",
       "        text-align: right;\n",
       "    }\n",
       "</style>\n",
       "<table border=\"1\" class=\"dataframe\">\n",
       "  <thead>\n",
       "    <tr style=\"text-align: right;\">\n",
       "      <th></th>\n",
       "      <th>comment</th>\n",
       "      <th>sentiment_label</th>\n",
       "      <th>sentiment_score</th>\n",
       "      <th>label</th>\n",
       "    </tr>\n",
       "  </thead>\n",
       "  <tbody>\n",
       "    <tr>\n",
       "      <th>0</th>\n",
       "      <td>they clearly felt the cold water during beta a...</td>\n",
       "      <td>NEGATIVE</td>\n",
       "      <td>0.999122</td>\n",
       "      <td>0</td>\n",
       "    </tr>\n",
       "    <tr>\n",
       "      <th>1</th>\n",
       "      <td>after playing the story i still think the glob...</td>\n",
       "      <td>NEGATIVE</td>\n",
       "      <td>0.991565</td>\n",
       "      <td>0</td>\n",
       "    </tr>\n",
       "    <tr>\n",
       "      <th>2</th>\n",
       "      <td>it is broken as the reason most showcases achi...</td>\n",
       "      <td>NEGATIVE</td>\n",
       "      <td>0.999086</td>\n",
       "      <td>0</td>\n",
       "    </tr>\n",
       "    <tr>\n",
       "      <th>3</th>\n",
       "      <td>being selfaware that you sound like a hoyo shi...</td>\n",
       "      <td>NEGATIVE</td>\n",
       "      <td>0.989961</td>\n",
       "      <td>0</td>\n",
       "    </tr>\n",
       "    <tr>\n",
       "      <th>4</th>\n",
       "      <td>i dont really mind the passives even if they a...</td>\n",
       "      <td>NEGATIVE</td>\n",
       "      <td>0.986159</td>\n",
       "      <td>0</td>\n",
       "    </tr>\n",
       "    <tr>\n",
       "      <th>5</th>\n",
       "      <td>im not having castorice and paying more attent...</td>\n",
       "      <td>NEGATIVE</td>\n",
       "      <td>0.997392</td>\n",
       "      <td>0</td>\n",
       "    </tr>\n",
       "    <tr>\n",
       "      <th>6</th>\n",
       "      <td>hoyocuck cc</td>\n",
       "      <td>NEGATIVE</td>\n",
       "      <td>0.983056</td>\n",
       "      <td>0</td>\n",
       "    </tr>\n",
       "    <tr>\n",
       "      <th>7</th>\n",
       "      <td>the furthest it should go is affecting the opp...</td>\n",
       "      <td>NEGATIVE</td>\n",
       "      <td>0.995662</td>\n",
       "      <td>0</td>\n",
       "    </tr>\n",
       "    <tr>\n",
       "      <th>8</th>\n",
       "      <td>i dont think they will do it again most than a...</td>\n",
       "      <td>NEGATIVE</td>\n",
       "      <td>0.996770</td>\n",
       "      <td>0</td>\n",
       "    </tr>\n",
       "    <tr>\n",
       "      <th>9</th>\n",
       "      <td>hoyo is a business and the game is easy enough...</td>\n",
       "      <td>POSITIVE</td>\n",
       "      <td>0.999394</td>\n",
       "      <td>1</td>\n",
       "    </tr>\n",
       "    <tr>\n",
       "      <th>10</th>\n",
       "      <td>ok this comment section is really starting to ...</td>\n",
       "      <td>NEGATIVE</td>\n",
       "      <td>0.997326</td>\n",
       "      <td>0</td>\n",
       "    </tr>\n",
       "    <tr>\n",
       "      <th>11</th>\n",
       "      <td>i was wondering what a globle passive was so i...</td>\n",
       "      <td>NEGATIVE</td>\n",
       "      <td>0.997509</td>\n",
       "      <td>0</td>\n",
       "    </tr>\n",
       "    <tr>\n",
       "      <th>12</th>\n",
       "      <td>global passive is good as long as they dont ba...</td>\n",
       "      <td>POSITIVE</td>\n",
       "      <td>0.988994</td>\n",
       "      <td>1</td>\n",
       "    </tr>\n",
       "    <tr>\n",
       "      <th>13</th>\n",
       "      <td>here is my take i cannot finish my current moc...</td>\n",
       "      <td>NEGATIVE</td>\n",
       "      <td>0.993208</td>\n",
       "      <td>0</td>\n",
       "    </tr>\n",
       "    <tr>\n",
       "      <th>14</th>\n",
       "      <td>passive is good people need to leave the game ...</td>\n",
       "      <td>NEGATIVE</td>\n",
       "      <td>0.811996</td>\n",
       "      <td>0</td>\n",
       "    </tr>\n",
       "    <tr>\n",
       "      <th>15</th>\n",
       "      <td>everyone knew that castorice would be ridiculo...</td>\n",
       "      <td>NEGATIVE</td>\n",
       "      <td>0.991336</td>\n",
       "      <td>0</td>\n",
       "    </tr>\n",
       "    <tr>\n",
       "      <th>16</th>\n",
       "      <td>i didnt really follow anythign about castorice...</td>\n",
       "      <td>NEGATIVE</td>\n",
       "      <td>0.992630</td>\n",
       "      <td>0</td>\n",
       "    </tr>\n",
       "    <tr>\n",
       "      <th>17</th>\n",
       "      <td>revives are bad because they take up power bud...</td>\n",
       "      <td>NEGATIVE</td>\n",
       "      <td>0.999683</td>\n",
       "      <td>0</td>\n",
       "    </tr>\n",
       "    <tr>\n",
       "      <th>18</th>\n",
       "      <td>the way the devs are treating castorice is kin...</td>\n",
       "      <td>NEGATIVE</td>\n",
       "      <td>0.994142</td>\n",
       "      <td>0</td>\n",
       "    </tr>\n",
       "    <tr>\n",
       "      <th>19</th>\n",
       "      <td>i agree with you and i expect that this is a o...</td>\n",
       "      <td>NEGATIVE</td>\n",
       "      <td>0.998170</td>\n",
       "      <td>0</td>\n",
       "    </tr>\n",
       "  </tbody>\n",
       "</table>\n",
       "</div>"
      ],
      "text/plain": [
       "                                              comment sentiment_label  \\\n",
       "0   they clearly felt the cold water during beta a...        NEGATIVE   \n",
       "1   after playing the story i still think the glob...        NEGATIVE   \n",
       "2   it is broken as the reason most showcases achi...        NEGATIVE   \n",
       "3   being selfaware that you sound like a hoyo shi...        NEGATIVE   \n",
       "4   i dont really mind the passives even if they a...        NEGATIVE   \n",
       "5   im not having castorice and paying more attent...        NEGATIVE   \n",
       "6                                         hoyocuck cc        NEGATIVE   \n",
       "7   the furthest it should go is affecting the opp...        NEGATIVE   \n",
       "8   i dont think they will do it again most than a...        NEGATIVE   \n",
       "9   hoyo is a business and the game is easy enough...        POSITIVE   \n",
       "10  ok this comment section is really starting to ...        NEGATIVE   \n",
       "11  i was wondering what a globle passive was so i...        NEGATIVE   \n",
       "12  global passive is good as long as they dont ba...        POSITIVE   \n",
       "13  here is my take i cannot finish my current moc...        NEGATIVE   \n",
       "14  passive is good people need to leave the game ...        NEGATIVE   \n",
       "15  everyone knew that castorice would be ridiculo...        NEGATIVE   \n",
       "16  i didnt really follow anythign about castorice...        NEGATIVE   \n",
       "17  revives are bad because they take up power bud...        NEGATIVE   \n",
       "18  the way the devs are treating castorice is kin...        NEGATIVE   \n",
       "19  i agree with you and i expect that this is a o...        NEGATIVE   \n",
       "\n",
       "    sentiment_score  label  \n",
       "0          0.999122      0  \n",
       "1          0.991565      0  \n",
       "2          0.999086      0  \n",
       "3          0.989961      0  \n",
       "4          0.986159      0  \n",
       "5          0.997392      0  \n",
       "6          0.983056      0  \n",
       "7          0.995662      0  \n",
       "8          0.996770      0  \n",
       "9          0.999394      1  \n",
       "10         0.997326      0  \n",
       "11         0.997509      0  \n",
       "12         0.988994      1  \n",
       "13         0.993208      0  \n",
       "14         0.811996      0  \n",
       "15         0.991336      0  \n",
       "16         0.992630      0  \n",
       "17         0.999683      0  \n",
       "18         0.994142      0  \n",
       "19         0.998170      0  "
      ]
     },
     "execution_count": 8,
     "metadata": {},
     "output_type": "execute_result"
    }
   ],
   "source": [
    "from tqdm import tqdm\n",
    "\n",
    "tqdm.pandas()\n",
    "\n",
    "results = []\n",
    "batch_size = 256\n",
    "\n",
    "# Check the columns in the dataframe\n",
    "print(\"DataFrame columns:\", df.columns)\n",
    "\n",
    "# Ensure 'comment' column exists\n",
    "if 'comment' in df.columns:\n",
    "    for i in range(0, len(df), batch_size):\n",
    "        batch = df['comment'].iloc[i:i+batch_size].astype(str).tolist()\n",
    "        predictions = sentiment(batch, truncation=True)\n",
    "        results.extend(predictions)\n",
    "\n",
    "    # Add to dataframe\n",
    "    df['sentiment_label'] = [r['label'] for r in results]\n",
    "    df['sentiment_score'] = [r['score'] for r in results]\n",
    "    df['label'] = df['sentiment_label'].map({'NEGATIVE': 0, 'POSITIVE': 1})\n",
    "else:\n",
    "    print(\"Error: 'comment' column not found in the dataframe.\")\n",
    "\n",
    "df.head(20)"
   ]
  },
  {
   "cell_type": "code",
   "execution_count": 9,
   "metadata": {},
   "outputs": [
    {
     "name": "stdout",
     "output_type": "stream",
     "text": [
      "Saved to CSV✅, check your folder\n"
     ]
    }
   ],
   "source": [
    "#save to CSV\n",
    "\n",
    "df = pd.DataFrame(df)\n",
    "df.to_csv(\"cassie_comments_labeled.csv\", index=False)\n",
    "print(\"Saved to CSV✅, check your folder\")"
   ]
  },
  {
   "cell_type": "markdown",
   "metadata": {},
   "source": [
    "#### Load labeled data"
   ]
  },
  {
   "cell_type": "code",
   "execution_count": 10,
   "metadata": {},
   "outputs": [
    {
     "data": {
      "text/html": [
       "<div>\n",
       "<style scoped>\n",
       "    .dataframe tbody tr th:only-of-type {\n",
       "        vertical-align: middle;\n",
       "    }\n",
       "\n",
       "    .dataframe tbody tr th {\n",
       "        vertical-align: top;\n",
       "    }\n",
       "\n",
       "    .dataframe thead th {\n",
       "        text-align: right;\n",
       "    }\n",
       "</style>\n",
       "<table border=\"1\" class=\"dataframe\">\n",
       "  <thead>\n",
       "    <tr style=\"text-align: right;\">\n",
       "      <th></th>\n",
       "      <th>comment</th>\n",
       "      <th>sentiment_label</th>\n",
       "      <th>sentiment_score</th>\n",
       "      <th>label</th>\n",
       "    </tr>\n",
       "  </thead>\n",
       "  <tbody>\n",
       "    <tr>\n",
       "      <th>0</th>\n",
       "      <td>they clearly felt the cold water during beta a...</td>\n",
       "      <td>NEGATIVE</td>\n",
       "      <td>0.999122</td>\n",
       "      <td>0</td>\n",
       "    </tr>\n",
       "    <tr>\n",
       "      <th>1</th>\n",
       "      <td>after playing the story i still think the glob...</td>\n",
       "      <td>NEGATIVE</td>\n",
       "      <td>0.991565</td>\n",
       "      <td>0</td>\n",
       "    </tr>\n",
       "    <tr>\n",
       "      <th>2</th>\n",
       "      <td>it is broken as the reason most showcases achi...</td>\n",
       "      <td>NEGATIVE</td>\n",
       "      <td>0.999086</td>\n",
       "      <td>0</td>\n",
       "    </tr>\n",
       "    <tr>\n",
       "      <th>3</th>\n",
       "      <td>being selfaware that you sound like a hoyo shi...</td>\n",
       "      <td>NEGATIVE</td>\n",
       "      <td>0.989961</td>\n",
       "      <td>0</td>\n",
       "    </tr>\n",
       "    <tr>\n",
       "      <th>4</th>\n",
       "      <td>i dont really mind the passives even if they a...</td>\n",
       "      <td>NEGATIVE</td>\n",
       "      <td>0.986159</td>\n",
       "      <td>0</td>\n",
       "    </tr>\n",
       "  </tbody>\n",
       "</table>\n",
       "</div>"
      ],
      "text/plain": [
       "                                             comment sentiment_label  \\\n",
       "0  they clearly felt the cold water during beta a...        NEGATIVE   \n",
       "1  after playing the story i still think the glob...        NEGATIVE   \n",
       "2  it is broken as the reason most showcases achi...        NEGATIVE   \n",
       "3  being selfaware that you sound like a hoyo shi...        NEGATIVE   \n",
       "4  i dont really mind the passives even if they a...        NEGATIVE   \n",
       "\n",
       "   sentiment_score  label  \n",
       "0         0.999122      0  \n",
       "1         0.991565      0  \n",
       "2         0.999086      0  \n",
       "3         0.989961      0  \n",
       "4         0.986159      0  "
      ]
     },
     "execution_count": 10,
     "metadata": {},
     "output_type": "execute_result"
    }
   ],
   "source": [
    "cassi = pd.read_csv(\"./cassie_comments_labeled.csv\")\n",
    "cassi.head(5)"
   ]
  },
  {
   "cell_type": "code",
   "execution_count": 11,
   "metadata": {},
   "outputs": [
    {
     "name": "stdout",
     "output_type": "stream",
     "text": [
      "<class 'pandas.core.frame.DataFrame'>\n",
      "RangeIndex: 7963 entries, 0 to 7962\n",
      "Data columns (total 4 columns):\n",
      " #   Column           Non-Null Count  Dtype  \n",
      "---  ------           --------------  -----  \n",
      " 0   comment          7858 non-null   object \n",
      " 1   sentiment_label  7963 non-null   object \n",
      " 2   sentiment_score  7963 non-null   float64\n",
      " 3   label            7963 non-null   int64  \n",
      "dtypes: float64(1), int64(1), object(2)\n",
      "memory usage: 249.0+ KB\n"
     ]
    }
   ],
   "source": [
    "cassi.info()"
   ]
  },
  {
   "cell_type": "code",
   "execution_count": 12,
   "metadata": {},
   "outputs": [
    {
     "data": {
      "text/plain": [
       "comment            105\n",
       "sentiment_label      0\n",
       "sentiment_score      0\n",
       "label                0\n",
       "dtype: int64"
      ]
     },
     "execution_count": 12,
     "metadata": {},
     "output_type": "execute_result"
    }
   ],
   "source": [
    "cassi.isnull().sum()"
   ]
  },
  {
   "cell_type": "markdown",
   "metadata": {},
   "source": [
    "#### Cleaning missing value"
   ]
  },
  {
   "cell_type": "code",
   "execution_count": 13,
   "metadata": {},
   "outputs": [
    {
     "name": "stdout",
     "output_type": "stream",
     "text": [
      "                                                comment sentiment_label  \\\n",
      "0     they clearly felt the cold water during beta a...        NEGATIVE   \n",
      "1     after playing the story i still think the glob...        NEGATIVE   \n",
      "2     it is broken as the reason most showcases achi...        NEGATIVE   \n",
      "3     being selfaware that you sound like a hoyo shi...        NEGATIVE   \n",
      "4     i dont really mind the passives even if they a...        NEGATIVE   \n",
      "...                                                 ...             ...   \n",
      "7958     i really feel her sadness e s castorice please        POSITIVE   \n",
      "7959  this felt more than seven minutes these animat...        NEGATIVE   \n",
      "7960                                               casy        POSITIVE   \n",
      "7961                          this is certainly english        POSITIVE   \n",
      "7962    depression is our friend thats quite depressing        NEGATIVE   \n",
      "\n",
      "      sentiment_score  label  \n",
      "0            0.999122      0  \n",
      "1            0.991565      0  \n",
      "2            0.999086      0  \n",
      "3            0.989961      0  \n",
      "4            0.986159      0  \n",
      "...               ...    ...  \n",
      "7958         0.986480      1  \n",
      "7959         0.998004      0  \n",
      "7960         0.987692      1  \n",
      "7961         0.999124      1  \n",
      "7962         0.999649      0  \n",
      "\n",
      "[7858 rows x 4 columns]\n"
     ]
    }
   ],
   "source": [
    "cassi_clean = cassi.dropna()\n",
    "print(cassi_clean)"
   ]
  },
  {
   "cell_type": "code",
   "execution_count": 14,
   "metadata": {},
   "outputs": [
    {
     "data": {
      "text/plain": [
       "comment            0\n",
       "sentiment_label    0\n",
       "sentiment_score    0\n",
       "label              0\n",
       "dtype: int64"
      ]
     },
     "execution_count": 14,
     "metadata": {},
     "output_type": "execute_result"
    }
   ],
   "source": [
    "cassi_clean.isnull().sum()"
   ]
  },
  {
   "cell_type": "code",
   "execution_count": 15,
   "metadata": {},
   "outputs": [
    {
     "data": {
      "text/html": [
       "<div>\n",
       "<style scoped>\n",
       "    .dataframe tbody tr th:only-of-type {\n",
       "        vertical-align: middle;\n",
       "    }\n",
       "\n",
       "    .dataframe tbody tr th {\n",
       "        vertical-align: top;\n",
       "    }\n",
       "\n",
       "    .dataframe thead th {\n",
       "        text-align: right;\n",
       "    }\n",
       "</style>\n",
       "<table border=\"1\" class=\"dataframe\">\n",
       "  <thead>\n",
       "    <tr style=\"text-align: right;\">\n",
       "      <th></th>\n",
       "      <th>comment</th>\n",
       "      <th>label</th>\n",
       "    </tr>\n",
       "  </thead>\n",
       "  <tbody>\n",
       "    <tr>\n",
       "      <th>0</th>\n",
       "      <td>they clearly felt the cold water during beta a...</td>\n",
       "      <td>0</td>\n",
       "    </tr>\n",
       "    <tr>\n",
       "      <th>1</th>\n",
       "      <td>after playing the story i still think the glob...</td>\n",
       "      <td>0</td>\n",
       "    </tr>\n",
       "    <tr>\n",
       "      <th>2</th>\n",
       "      <td>it is broken as the reason most showcases achi...</td>\n",
       "      <td>0</td>\n",
       "    </tr>\n",
       "    <tr>\n",
       "      <th>3</th>\n",
       "      <td>being selfaware that you sound like a hoyo shi...</td>\n",
       "      <td>0</td>\n",
       "    </tr>\n",
       "    <tr>\n",
       "      <th>4</th>\n",
       "      <td>i dont really mind the passives even if they a...</td>\n",
       "      <td>0</td>\n",
       "    </tr>\n",
       "    <tr>\n",
       "      <th>5</th>\n",
       "      <td>im not having castorice and paying more attent...</td>\n",
       "      <td>0</td>\n",
       "    </tr>\n",
       "    <tr>\n",
       "      <th>6</th>\n",
       "      <td>hoyocuck cc</td>\n",
       "      <td>0</td>\n",
       "    </tr>\n",
       "    <tr>\n",
       "      <th>7</th>\n",
       "      <td>the furthest it should go is affecting the opp...</td>\n",
       "      <td>0</td>\n",
       "    </tr>\n",
       "    <tr>\n",
       "      <th>8</th>\n",
       "      <td>i dont think they will do it again most than a...</td>\n",
       "      <td>0</td>\n",
       "    </tr>\n",
       "    <tr>\n",
       "      <th>9</th>\n",
       "      <td>hoyo is a business and the game is easy enough...</td>\n",
       "      <td>1</td>\n",
       "    </tr>\n",
       "  </tbody>\n",
       "</table>\n",
       "</div>"
      ],
      "text/plain": [
       "                                             comment  label\n",
       "0  they clearly felt the cold water during beta a...      0\n",
       "1  after playing the story i still think the glob...      0\n",
       "2  it is broken as the reason most showcases achi...      0\n",
       "3  being selfaware that you sound like a hoyo shi...      0\n",
       "4  i dont really mind the passives even if they a...      0\n",
       "5  im not having castorice and paying more attent...      0\n",
       "6                                        hoyocuck cc      0\n",
       "7  the furthest it should go is affecting the opp...      0\n",
       "8  i dont think they will do it again most than a...      0\n",
       "9  hoyo is a business and the game is easy enough...      1"
      ]
     },
     "execution_count": 15,
     "metadata": {},
     "output_type": "execute_result"
    }
   ],
   "source": [
    "# select column for splitting process\n",
    "cassi_clean = cassi_clean[['comment','label']]\n",
    "cassi_clean.head(10)"
   ]
  },
  {
   "cell_type": "markdown",
   "metadata": {},
   "source": [
    "#### Splitting Data 📏"
   ]
  },
  {
   "cell_type": "code",
   "execution_count": 16,
   "metadata": {},
   "outputs": [],
   "source": [
    "X = cassi_clean['comment']\n",
    "y = cassi_clean['label']"
   ]
  },
  {
   "cell_type": "code",
   "execution_count": 17,
   "metadata": {},
   "outputs": [
    {
     "name": "stdout",
     "output_type": "stream",
     "text": [
      "Training data shape: (6286,)\n",
      "Testing data shape: (1572,)\n"
     ]
    }
   ],
   "source": [
    "from sklearn.model_selection import train_test_split\n",
    "\n",
    "X_train, X_test, y_train, y_test  = train_test_split(X, y, test_size=0.2, random_state=42)\n",
    "# print(\"Training data shape:\", len(X_train))\n",
    "# print(\"Testing data shape:\", len(y_test))\n",
    "\n",
    "train_df = pd.DataFrame({'text': X_train,'label': y_train})\n",
    "test_df = pd.DataFrame({'text': X_test,'label': y_test})\n",
    "\n",
    "# Print the shapes\n",
    "print(\"Training data shape:\", X_train.shape)\n",
    "print(\"Testing data shape:\", y_test.shape)"
   ]
  },
  {
   "cell_type": "markdown",
   "metadata": {},
   "source": [
    "#### Check Data Balance 👻"
   ]
  },
  {
   "cell_type": "code",
   "execution_count": 18,
   "metadata": {},
   "outputs": [
    {
     "data": {
      "image/png": "[encoded data removed]",
      "text/plain": [
       "<Figure size 640x480 with 1 Axes>"
      ]
     },
     "metadata": {},
     "output_type": "display_data"
    }
   ],
   "source": [
    "import matplotlib.pyplot as plt\n",
    "\n",
    "val_counts = y_train.value_counts() \n",
    "ax = val_counts.plot(kind='bar', title=\"Checking Data Balance After Splitting\", ylabel=\"proportion\", xlabel=\"Label 0: NEGATIVE, 1: Positive\")\n",
    "\n",
    "for p in ax.patches:\n",
    "    ax.annotate(f'{p.get_height()}', (p.get_x()+ p.get_width()/ 2, p.get_height()),\n",
    "                ha='center', va='bottom')\n",
    "    \n",
    "plt.show()"
   ]
  },
  {
   "cell_type": "code",
   "execution_count": null,
   "metadata": {},
   "outputs": [],
   "source": [
    "# As you can see the data is inbalance which was a bad thing if want to train the model. an Imbalanced can be biased due\n",
    "# to risk of instability and can effect the accuracy of the model. To make the data balance lets try one of the most used\n",
    "# balancing technique"
   ]
  },
  {
   "cell_type": "markdown",
   "metadata": {},
   "source": [
    "#### Load Tokenizer and Tokenize text"
   ]
  },
  {
   "cell_type": "code",
   "execution_count": 19,
   "metadata": {},
   "outputs": [
    {
     "data": {
      "application/vnd.jupyter.widget-view+json": {
       "model_id": "4b63bfff7c3744c09726e9564dd5f93a",
       "version_major": 2,
       "version_minor": 0
      },
      "text/plain": [
       "Map:   0%|          | 0/6286 [00:00<?, ? examples/s]"
      ]
     },
     "metadata": {},
     "output_type": "display_data"
    },
    {
     "data": {
      "application/vnd.jupyter.widget-view+json": {
       "model_id": "54bc220870ee459ca4725c0385f0781b",
       "version_major": 2,
       "version_minor": 0
      },
      "text/plain": [
       "Map:   0%|          | 0/1572 [00:00<?, ? examples/s]"
      ]
     },
     "metadata": {},
     "output_type": "display_data"
    },
    {
     "data": {
      "text/plain": [
       "Dataset({\n",
       "    features: ['label', '__index_level_0__', 'input_ids', 'attention_mask'],\n",
       "    num_rows: 1572\n",
       "})"
      ]
     },
     "execution_count": 19,
     "metadata": {},
     "output_type": "execute_result"
    }
   ],
   "source": [
    "from transformers import DistilBertTokenizer\n",
    "\n",
    "tokenizer = DistilBertTokenizer.from_pretrained(\"distilbert/distilbert-base-uncased-finetuned-sst-2-english\")\n",
    "\n",
    "def tokenize_function(examples):\n",
    "    return tokenizer(examples[\"text\"], padding=\"max_length\", truncation=True, max_length=128)\n",
    "\n",
    "from datasets import Dataset\n",
    "\n",
    "train_dataset = Dataset.from_pandas(train_df)\n",
    "test_dataset= Dataset.from_pandas(test_df)\n",
    "\n",
    "#apply tokenizer to datasets\n",
    "train_dataset = train_dataset.map(tokenize_function, batched=True)\n",
    "test_dataset= test_dataset.map(tokenize_function, batched=True)\n",
    "\n",
    "# Remove text column as it's no longer needed\n",
    "train_dataset = train_dataset.remove_columns([\"text\"])\n",
    "test_dataset= test_dataset.remove_columns([\"text\"])\n",
    "\n",
    "# Convert labels to int format\n",
    "train_dataset.with_format(\"torch\")\n",
    "test_dataset.with_format(\"torch\")"
   ]
  },
  {
   "cell_type": "markdown",
   "metadata": {},
   "source": [
    "#### ⚖️ Compute Class Weights"
   ]
  },
  {
   "cell_type": "code",
   "execution_count": 20,
   "metadata": {},
   "outputs": [
    {
     "name": "stdout",
     "output_type": "stream",
     "text": [
      "Class Weight: tensor([0.6625, 2.0383])\n"
     ]
    }
   ],
   "source": [
    "from sklearn.utils.class_weight import compute_class_weight\n",
    "import numpy as np\n",
    "import torch\n",
    "\n",
    "class_weight = compute_class_weight(\n",
    "    class_weight='balanced',\n",
    "    classes=np.unique(train_df['label']),\n",
    "    y=train_df['label']\n",
    ")\n",
    "\n",
    "class_weight = torch.tensor(class_weight, dtype=torch.float)\n",
    "print(\"Class Weight:\", class_weight)"
   ]
  },
  {
   "cell_type": "markdown",
   "metadata": {},
   "source": [
    "#### Define Trainer and metrics"
   ]
  },
  {
   "cell_type": "code",
   "execution_count": 21,
   "metadata": {},
   "outputs": [],
   "source": [
    "import evaluate\n",
    "\n",
    "metric = evaluate.load(\"accuracy\")\n",
    "metric2 = evaluate.load(\"f1\")\n",
    "\n",
    "def compute_metrics(eval_pred):\n",
    "    logits, labels = eval_pred\n",
    "    predictions = np.argmax(logits, axis=-1)\n",
    "\n",
    "    return {\"accuracy\": metric.compute(predictions=predictions, references=labels)[\"accuracy\"],\n",
    "            \"f1\": metric2.compute(predictions=predictions, references=labels, average=\"weighted\")[\"f1\"]\n",
    "    }"
   ]
  },
  {
   "cell_type": "code",
   "execution_count": 22,
   "metadata": {},
   "outputs": [
    {
     "name": "stderr",
     "output_type": "stream",
     "text": [
      "C:\\Users\\Darren\\AppData\\Local\\Temp\\ipykernel_15244\\126106320.py:41: FutureWarning: `tokenizer` is deprecated and will be removed in version 5.0.0 for `weightedTrainer.__init__`. Use `processing_class` instead.\n",
      "  trainer = weightedTrainer(\n"
     ]
    },
    {
     "data": {
      "application/vnd.jupyter.widget-view+json": {
       "model_id": "fba30f6b3bab4af994025fe769574fdc",
       "version_major": 2,
       "version_minor": 0
      },
      "text/plain": [
       "  0%|          | 0/2358 [00:00<?, ?it/s]"
      ]
     },
     "metadata": {},
     "output_type": "display_data"
    },
    {
     "name": "stdout",
     "output_type": "stream",
     "text": [
      "{'loss': 0.2046, 'grad_norm': 18.68613052368164, 'learning_rate': 1e-05, 'epoch': 0.13}\n",
      "{'loss': 0.3146, 'grad_norm': 1.1580209732055664, 'learning_rate': 9.557130203720107e-06, 'epoch': 0.25}\n",
      "{'loss': 0.291, 'grad_norm': 54.966941833496094, 'learning_rate': 9.114260407440213e-06, 'epoch': 0.38}\n",
      "{'loss': 0.2676, 'grad_norm': 82.16973114013672, 'learning_rate': 8.67139061116032e-06, 'epoch': 0.51}\n",
      "{'loss': 0.3258, 'grad_norm': 78.6208267211914, 'learning_rate': 8.228520814880426e-06, 'epoch': 0.64}\n",
      "{'loss': 0.3018, 'grad_norm': 0.27692025899887085, 'learning_rate': 7.785651018600532e-06, 'epoch': 0.76}\n",
      "{'loss': 0.3779, 'grad_norm': 80.85787200927734, 'learning_rate': 7.3427812223206385e-06, 'epoch': 0.89}\n"
     ]
    },
    {
     "data": {
      "application/vnd.jupyter.widget-view+json": {
       "model_id": "4ea37cbbe2c348f9ada5b6f58eeeea00",
       "version_major": 2,
       "version_minor": 0
      },
      "text/plain": [
       "  0%|          | 0/197 [00:00<?, ?it/s]"
      ]
     },
     "metadata": {},
     "output_type": "display_data"
    },
    {
     "name": "stdout",
     "output_type": "stream",
     "text": [
      "{'eval_loss': 0.15615442395210266, 'eval_accuracy': 0.955470737913486, 'eval_f1': 0.9552292136395862, 'eval_runtime': 14.2476, 'eval_samples_per_second': 110.335, 'eval_steps_per_second': 13.827, 'epoch': 1.0}\n",
      "{'loss': 0.1913, 'grad_norm': 38.042327880859375, 'learning_rate': 6.899911426040744e-06, 'epoch': 1.02}\n",
      "{'loss': 0.1408, 'grad_norm': 0.02006143145263195, 'learning_rate': 6.457041629760851e-06, 'epoch': 1.15}\n",
      "{'loss': 0.2093, 'grad_norm': 0.013259734958410263, 'learning_rate': 6.014171833480958e-06, 'epoch': 1.27}\n",
      "{'loss': 0.1352, 'grad_norm': 0.11821883171796799, 'learning_rate': 5.571302037201063e-06, 'epoch': 1.4}\n",
      "{'loss': 0.0949, 'grad_norm': 0.5433295369148254, 'learning_rate': 5.1284322409211695e-06, 'epoch': 1.53}\n",
      "{'loss': 0.1719, 'grad_norm': 0.01774401217699051, 'learning_rate': 4.685562444641275e-06, 'epoch': 1.65}\n",
      "{'loss': 0.2371, 'grad_norm': 122.53411102294922, 'learning_rate': 4.242692648361382e-06, 'epoch': 1.78}\n",
      "{'loss': 0.1778, 'grad_norm': 0.07445081323385239, 'learning_rate': 3.7998228520814883e-06, 'epoch': 1.91}\n"
     ]
    },
    {
     "data": {
      "application/vnd.jupyter.widget-view+json": {
       "model_id": "4df8dc61d69741368bfb2a2d59a6b5f1",
       "version_major": 2,
       "version_minor": 0
      },
      "text/plain": [
       "  0%|          | 0/197 [00:00<?, ?it/s]"
      ]
     },
     "metadata": {},
     "output_type": "display_data"
    },
    {
     "name": "stdout",
     "output_type": "stream",
     "text": [
      "{'eval_loss': 0.15971782803535461, 'eval_accuracy': 0.9586513994910941, 'eval_f1': 0.9588471748751796, 'eval_runtime': 14.6713, 'eval_samples_per_second': 107.148, 'eval_steps_per_second': 13.428, 'epoch': 2.0}\n",
      "{'loss': 0.1611, 'grad_norm': 13.538610458374023, 'learning_rate': 3.3569530558015946e-06, 'epoch': 2.04}\n",
      "{'loss': 0.0942, 'grad_norm': 0.04701433330774307, 'learning_rate': 2.9140832595217013e-06, 'epoch': 2.16}\n",
      "{'loss': 0.0628, 'grad_norm': 0.03193189576268196, 'learning_rate': 2.471213463241807e-06, 'epoch': 2.29}\n",
      "{'loss': 0.0608, 'grad_norm': 0.7664394974708557, 'learning_rate': 2.0283436669619134e-06, 'epoch': 2.42}\n",
      "{'loss': 0.0403, 'grad_norm': 0.7764725685119629, 'learning_rate': 1.5854738706820197e-06, 'epoch': 2.54}\n",
      "{'loss': 0.0912, 'grad_norm': 0.010770567692816257, 'learning_rate': 1.142604074402126e-06, 'epoch': 2.67}\n",
      "{'loss': 0.1038, 'grad_norm': 0.5124223232269287, 'learning_rate': 6.997342781222321e-07, 'epoch': 2.8}\n",
      "{'loss': 0.0821, 'grad_norm': 1.0282734632492065, 'learning_rate': 2.5686448184233836e-07, 'epoch': 2.93}\n"
     ]
    },
    {
     "data": {
      "application/vnd.jupyter.widget-view+json": {
       "model_id": "fa1cdc735e404b25998323ba22083039",
       "version_major": 2,
       "version_minor": 0
      },
      "text/plain": [
       "  0%|          | 0/197 [00:00<?, ?it/s]"
      ]
     },
     "metadata": {},
     "output_type": "display_data"
    },
    {
     "name": "stdout",
     "output_type": "stream",
     "text": [
      "{'eval_loss': 0.1740725338459015, 'eval_accuracy': 0.9592875318066157, 'eval_f1': 0.9594631435674084, 'eval_runtime': 14.6603, 'eval_samples_per_second': 107.228, 'eval_steps_per_second': 13.438, 'epoch': 3.0}\n",
      "{'train_runtime': 709.6069, 'train_samples_per_second': 26.575, 'train_steps_per_second': 3.323, 'train_loss': 0.17715542846255833, 'epoch': 3.0}\n"
     ]
    },
    {
     "data": {
      "text/plain": [
       "TrainOutput(global_step=2358, training_loss=0.17715542846255833, metrics={'train_runtime': 709.6069, 'train_samples_per_second': 26.575, 'train_steps_per_second': 3.323, 'total_flos': 624517550963712.0, 'train_loss': 0.17715542846255833, 'epoch': 3.0})"
      ]
     },
     "execution_count": 22,
     "metadata": {},
     "output_type": "execute_result"
    }
   ],
   "source": [
    "from transformers import DistilBertForSequenceClassification, Trainer, TrainingArguments\n",
    "import torch.nn as nn\n",
    "#load model\n",
    "model = DistilBertForSequenceClassification.from_pretrained(\"distilbert/distilbert-base-uncased-finetuned-sst-2-english\", \n",
    "                                                            num_labels=2).to(device)\n",
    "\n",
    "# enable gpu optimizations\n",
    "torch.backends.cudnn.benchmark = True\n",
    "\n",
    "class weightedTrainer(Trainer):\n",
    "    def compute_loss(self, model, inputs, return_outputs=False, **kwargs):\n",
    "        labels = inputs.get(\"labels\")\n",
    "        outputs = model(**inputs)\n",
    "        logits = outputs.get(\"logits\")\n",
    "        loss_fc= nn.CrossEntropyLoss(weight=class_weight.to(model.device))\n",
    "        loss = loss_fc(logits, labels)\n",
    "        return (loss, outputs) if return_outputs else loss\n",
    "    \n",
    "model.gradient_checkpointing_enable()  # Reduces memory usage during training\n",
    "\n",
    "training_args = TrainingArguments(\n",
    "    output_dir='./distilbert_castorice_result',\n",
    "    learning_rate=1e-5,\n",
    "    num_train_epochs=3, #increase epochs\n",
    "    per_device_train_batch_size=8, #train batch size\n",
    "    per_device_eval_batch_size=8,  #eval batch size\n",
    "    eval_strategy=\"epoch\", # Evaluate model at the end of each epoch\n",
    "    save_strategy=\"epoch\",  # Set save_strategy to \"epoch\"\n",
    "    eval_steps=500,\n",
    "    warmup_steps=100,# increase learning rate every 100 steps\n",
    "    weight_decay=0.01,\n",
    "    logging_dir='./logs',\n",
    "    logging_steps=100,\n",
    "    fp16=False, #Gpu Optimization if capable yes, if not FALSE\n",
    "    push_to_hub=False,\n",
    "    load_best_model_at_end=True,\n",
    "    metric_for_best_model=\"accuracy\",\n",
    "    report_to=\"none\", \n",
    ")\n",
    "\n",
    "trainer = weightedTrainer(\n",
    "    model=model,\n",
    "    args=training_args,\n",
    "    train_dataset=train_dataset,\n",
    "    eval_dataset=test_dataset,\n",
    "    tokenizer=tokenizer,\n",
    "    compute_metrics=compute_metrics,\n",
    "\n",
    ")\n",
    "trainer.train()"
   ]
  },
  {
   "cell_type": "code",
   "execution_count": 23,
   "metadata": {},
   "outputs": [],
   "source": [
    "from sklearn.metrics import classification_report, confusion_matrix\n",
    "\n",
    "import numpy as np\n",
    "import seaborn as sns\n",
    "import matplotlib.pyplot as plt"
   ]
  },
  {
   "cell_type": "code",
   "execution_count": 24,
   "metadata": {},
   "outputs": [
    {
     "data": {
      "application/vnd.jupyter.widget-view+json": {
       "model_id": "11720a2ab1124b7e87fba25bd9a45b67",
       "version_major": 2,
       "version_minor": 0
      },
      "text/plain": [
       "  0%|          | 0/197 [00:00<?, ?it/s]"
      ]
     },
     "metadata": {},
     "output_type": "display_data"
    },
    {
     "name": "stdout",
     "output_type": "stream",
     "text": [
      "DistilBERT Result\n",
      "Test Accuracy: 95.93%\n",
      "\n",
      "              precision    recall  f1-score   support\n",
      "\n",
      "    NEGATIVE       0.98      0.97      0.97      1188\n",
      "    POSITIVE       0.91      0.93      0.92       384\n",
      "\n",
      "    accuracy                           0.96      1572\n",
      "   macro avg       0.94      0.95      0.95      1572\n",
      "weighted avg       0.96      0.96      0.96      1572\n",
      "\n"
     ]
    }
   ],
   "source": [
    "from sklearn.metrics import accuracy_score, classification_report\n",
    "\n",
    "# Define label_map\n",
    "label_map = {0: 'NEGATIVE', 1: 'POSITIVE'}  # Adjust according to your labels\n",
    "\n",
    "predictions = trainer.predict(test_dataset)\n",
    "preds = np.argmax(predictions.predictions, axis=1)\n",
    "\n",
    "accuracy = accuracy_score(y_test, preds) * 100\n",
    "\n",
    "#print classification report\n",
    "print(\"DistilBERT Result\")\n",
    "print(f\"Test Accuracy: {accuracy:.2f}%\\n\")\n",
    "print(classification_report(y_test, preds, target_names=list(label_map.values())))"
   ]
  },
  {
   "cell_type": "code",
   "execution_count": 25,
   "metadata": {},
   "outputs": [
    {
     "data": {
      "image/png": "[encoded data removed]",
      "text/plain": [
       "<Figure size 640x480 with 2 Axes>"
      ]
     },
     "metadata": {},
     "output_type": "display_data"
    }
   ],
   "source": [
    "cm = confusion_matrix(y_test, preds)\n",
    "sns.heatmap(cm, annot=True, fmt='d', cmap=\"Blues\", xticklabels=list(label_map.values()), yticklabels=list(label_map.values()))\n",
    "plt.xlabel(\"Predicted\")\n",
    "plt.ylabel(\"Actual\")\n",
    "plt.title(\"DistilBERT Confusion Matrix\")\n",
    "plt.show()"
   ]
  },
  {
   "cell_type": "code",
   "execution_count": 29,
   "metadata": {},
   "outputs": [
    {
     "data": {
      "image/png": "[encoded data removed]",
      "text/plain": [
       "<Figure size 800x500 with 1 Axes>"
      ]
     },
     "metadata": {},
     "output_type": "display_data"
    }
   ],
   "source": [
    "import matplotlib.pyplot as plt\n",
    "import numpy as np\n",
    "\n",
    "# Smooth the loss curves using a moving average\n",
    "def smooth_curve(values, weight=0.8):\n",
    "    smoothed = []\n",
    "    last = values[0]\n",
    "    for value in values:\n",
    "        smoothed_value = last * weight + (1 - weight) * value\n",
    "        smoothed.append(smoothed_value)\n",
    "        last = smoothed_value\n",
    "    return smoothed\n",
    "\n",
    "# Extract and smooth losses\n",
    "train_loss = [log[\"loss\"] for log in trainer.state.log_history if \"loss\" in log]\n",
    "eval_loss = [log[\"eval_loss\"] for log in trainer.state.log_history if \"eval_loss\" in log]\n",
    "\n",
    "train_loss_smoothed = smooth_curve(train_loss)\n",
    "eval_loss_smoothed = smooth_curve(eval_loss)\n",
    "\n",
    "# Generate epochs in range\n",
    "train_steps = list(range(1, len(train_loss_smoothed) + 1))\n",
    "eval_epochs = list(range(1, len(eval_loss_smoothed) * (len(train_loss_smoothed) // len(eval_loss_smoothed)) + 1, len(train_loss_smoothed) // len(eval_loss_smoothed)))\n",
    "\n",
    "# Plot training and validation loss\n",
    "plt.figure(figsize=(8, 5))\n",
    "plt.plot(train_steps, train_loss_smoothed, label=\"Train Loss (Smoothed)\", marker=\"o\", linestyle=\"dashed\")\n",
    "plt.plot(eval_epochs, eval_loss_smoothed, label=\"Validation Loss (Smoothed)\", marker=\"s\")\n",
    "\n",
    "plt.xlabel(\"Epoch\")\n",
    "plt.ylabel(\"Loss\")\n",
    "plt.title(\"Train vs Validation Loss of DistilBERT\")\n",
    "plt.legend()\n",
    "plt.grid()\n",
    "plt.show()"
   ]
  },
  {
   "cell_type": "code",
   "execution_count": null,
   "metadata": {},
   "outputs": [],
   "source": [
    "trainer.save_model(\"distilbert_castorice_result\")\n",
    "tokenizer.save_pretrained(\"distilbert_castorice_result\")"
   ]
  },
  {
   "cell_type": "code",
   "execution_count": null,
   "metadata": {},
   "outputs": [],
   "source": []
  }
 ],
 "metadata": {
  "kernelspec": {
   "display_name": "pytorch_nvidia",
   "language": "python",
   "name": "python3"
  },
  "language_info": {
   "codemirror_mode": {
    "name": "ipython",
    "version": 3
   },
   "file_extension": ".py",
   "mimetype": "text/x-python",
   "name": "python",
   "nbconvert_exporter": "python",
   "pygments_lexer": "ipython3",
   "version": "3.10.0"
  }
 },
 "nbformat": 4,
 "nbformat_minor": 2
}
